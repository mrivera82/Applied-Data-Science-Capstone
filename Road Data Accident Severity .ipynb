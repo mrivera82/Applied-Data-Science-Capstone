{
    "cells": [
        {
            "cell_type": "markdown",
            "metadata": {
                "collapsed": true
            },
            "source": "# CAPSTONE PROJECT - CAR ACCIDENT SEVERITY"
        },
        {
            "cell_type": "markdown",
            "metadata": {},
            "source": "# INTRODUCTION"
        },
        {
            "cell_type": "markdown",
            "metadata": {},
            "source": "In this project, I am going to explore, use and create a model based on the Road Accident Safety Data provided by the UK goverment for the yaer of 2018.  Because it is a labeled dataset, I am going to use\u00a0Supervised Machine Learning. Also this work is based on the Cross-industry standard process for data mining (CRISP-DM) and its six stages:"
        },
        {
            "cell_type": "markdown",
            "metadata": {},
            "source": "1. Bussiness Understanding\n2. Data Understanding\n3. Data Preparation and Cleaning\n4. Modeling\n5. Evaluation\n6. Deployment"
        },
        {
            "cell_type": "markdown",
            "metadata": {},
            "source": "# BUSINESS PROBLEM"
        },
        {
            "cell_type": "markdown",
            "metadata": {},
            "source": "Engineers and researchers in the automotive industry have tried to design and build safer cars, but road accidents are inevitable. The large number of people means of transport and different climatic or circumstantial factors have made traffic accidents a part of everyday life around the world.\n\u00a0The patterns involved in dangerous crashes and road accidents can be helpful in developing road safety policies or greater awareness of the driver himself. The study of these patterns, causes and severity of injuries can predict the severity or probability of an accident, which would be very useful for the well-being of any driver, offering the possibility that, knowing the risks and probabilities of an accident, drive with more care. or even change your trip. Undoubtedly, this would help all drivers to have a better perspective of possible accidents, the most dangerous routes, the less favorable weather conditions and with all these data make a more informed decision.\n"
        },
        {
            "cell_type": "markdown",
            "metadata": {},
            "source": "# DATA"
        },
        {
            "cell_type": "markdown",
            "metadata": {},
            "source": "For the analysis and the creation of a predictive model and because the dataset is labeled, I am going to use supervised machine learning. The target variable to predict will be **Accident Severity** which defines three modes: Fatal, serious, and light.\n\nFirst, the information will be analyzed to determine which of the attributes have the highest correlation with the target variable, among which are probably: Light Conditions, Weather Conditions, Road Surface Conditions, Junction Detail, and some others. Once identified, the data will be cleaned up based on the data visualization for modeling."
        },
        {
            "cell_type": "markdown",
            "metadata": {},
            "source": "In order to look at the dataset clck here  <a href=https://github.com/mrivera82/Applied-Data-Science-Capstone/blob/master/dftRoadSafetyData_Accidents_2018.csv> Data Set</a>  or label dictionary here <a href=https://github.com/mrivera82/Applied-Data-Science-Capstone/blob/master/variable%20lookup.xls> Label Dictionary </a>"
        },
        {
            "cell_type": "markdown",
            "metadata": {},
            "source": "### Important Data Features"
        },
        {
            "cell_type": "markdown",
            "metadata": {},
            "source": "The variables of the dataset will be group into three main sets:\n\u00a0"
        },
        {
            "cell_type": "markdown",
            "metadata": {},
            "source": "**Accident details**\n\n1. Accident Index\n2. Police Force\n3. Accident Severity\n4. Number of Vehicles\n5. Number of Casualties\n6. Did Police Officer Attend Scene of Accident\n7. 1st Road Class\n8. 1st Road Number\n9. Road Type\n10. Speed limit\n11. Junction Detail\n12. Junction Control\n13. 2nd Road Class\n14. 2nd Road Number\n15. Pedestrian Crossing-Human Control\n16. Pedestrian Crossing-Physical Facilities\n"
        },
        {
            "cell_type": "markdown",
            "metadata": {},
            "source": "**Location and time**\n\n1. Location Easting OSGR (Null if not known)\n2. Location Northing OSGR (Null if not known)\n3. Longitude (Null if not known)\n4. Latitude (Null if not known)\n5. Date (DD/MM/YYYY)\n6. Day of Week\n7. Time (HH:MM)\n8. Local Authority (District)\n9. Local Authority (Highway Authority - ONS code)\n10. Urban or Rural Area\n"
        },
        {
            "cell_type": "markdown",
            "metadata": {},
            "source": "**Environmental issues**\n\n1. Carriageway Hazards\n2. Light Conditions\n3. Weather Conditions\n4. Road Surface Conditions\n5. Special Conditions at Site\n"
        },
        {
            "cell_type": "markdown",
            "metadata": {},
            "source": "# GENERAL APPROACH"
        },
        {
            "cell_type": "markdown",
            "metadata": {},
            "source": "With all the data above, it is possible to determine interesting situations and make questions about them.\n\u00a0\n1. When do most accidents happen? On weekdays or the weekend?\n2. Is wheather a key factor in road accidents?\n3. Is the number of people affected related to the severity of the accident?\n4. Which causes more accidents?"
        },
        {
            "cell_type": "markdown",
            "metadata": {},
            "source": "# FINAL OBJECTIVE"
        },
        {
            "cell_type": "markdown",
            "metadata": {},
            "source": "The main objective is to identify the severity or probability of a possible accident, so this work can be useful for anyone interested in assessing risks while driving, the traffic control departments or simply for anyone who drives a vehicle.\n"
        },
        {
            "cell_type": "code",
            "execution_count": null,
            "metadata": {},
            "outputs": [],
            "source": ""
        }
    ],
    "metadata": {
        "kernelspec": {
            "display_name": "Python 3.6",
            "language": "python",
            "name": "python3"
        },
        "language_info": {
            "codemirror_mode": {
                "name": "ipython",
                "version": 3
            },
            "file_extension": ".py",
            "mimetype": "text/x-python",
            "name": "python",
            "nbconvert_exporter": "python",
            "pygments_lexer": "ipython3",
            "version": "3.6.9"
        }
    },
    "nbformat": 4,
    "nbformat_minor": 1
}